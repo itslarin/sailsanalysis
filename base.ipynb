{
 "cells": [
  {
   "cell_type": "code",
   "execution_count": 17,
   "metadata": {},
   "outputs": [],
   "source": [
    "#import section\n",
    "\n",
    "import json\n",
    "import time\n",
    "import imaplib\n",
    "\n",
    "from bs4 import BeautifulSoup\n",
    "\n",
    "\n",
    "import sys\n",
    "sys.path.append('modules')\n",
    "import mailfuncs\n",
    "import dbfuncs\n"
   ]
  },
  {
   "cell_type": "code",
   "execution_count": 39,
   "metadata": {},
   "outputs": [],
   "source": [
    "#initialisation\n",
    "\n",
    "gmailServer = \"imap.gmail.com\"\n",
    "gmailPort   = 993\n",
    "with open('gmail.creds') as f:\n",
    "    data = json.load(f)\n",
    "    gmailAccount = data['account']\n",
    "    gmailPassword = data['password']"
   ]
  },
  {
   "cell_type": "code",
   "execution_count": 285,
   "metadata": {},
   "outputs": [
    {
     "data": {
      "text/plain": [
       "('OK', [b'fitosystems@gmail.com authenticated (Success)'])"
      ]
     },
     "execution_count": 285,
     "metadata": {},
     "output_type": "execute_result"
    }
   ],
   "source": [
    "#connect\n",
    "\n",
    "mail = imaplib.IMAP4_SSL(gmailServer)\n",
    "mail.login(gmailAccount,gmailPassword)"
   ]
  },
  {
   "cell_type": "code",
   "execution_count": 286,
   "metadata": {},
   "outputs": [
    {
     "name": "stdout",
     "output_type": "stream",
     "text": [
      "12674\n"
     ]
    }
   ],
   "source": [
    "#querying\n",
    "\n",
    "#mail.select('inbox')\n",
    "mail.select('fitosystems.ru')\n",
    "typ, data = mail.search(None, 'ALL')\n",
    "mail_ids = data[0]\n",
    "id_list = mail_ids.split()\n",
    "first_email_id = int(id_list[0])\n",
    "latest_email_id = int(id_list[-8])\n",
    "\n",
    "print(latest_email_id)"
   ]
  },
  {
   "cell_type": "code",
   "execution_count": 306,
   "metadata": {},
   "outputs": [],
   "source": [
    "#processing instance\n",
    "\n",
    "message_id = latest_email_id\n",
    "\n",
    "\n",
    "typ, data = mail.fetch(str(message_id), '(RFC822)' ) \n",
    "\n",
    "\n",
    "rawEmail = data[0][1]\n",
    "msg = email.message_from_bytes(rawEmail)\n",
    "\n",
    "\n",
    "emailDate =  msg[\"Date\"]\n",
    "emailFrom =  decodeHeaderValue(msg[\"From\"])\n",
    "emailSubject = decodeHeader(msg[\"Subject\"])\n",
    "emailBody = msg.get_payload()\n",
    "\n",
    "\n",
    "orderId = emailSubject.split()[1]\n",
    "\n",
    "soup = BeautifulSoup(emailBody, 'html.parser')\n",
    "\n",
    "\n",
    "\n",
    "customerName = soup.find('span', class_='vm2-last_name')\n",
    "customerPhone = soup.find('span', class_='vm2-phone_1')\n",
    "customerEmail = soup.find('span', class_='vm2-email')\n",
    "customerCity = soup.find('span', class_='vm2-virtuemart_state_id')\n",
    "customerAddress = soup.find('span', class_='vm2-address_1')\n",
    "\n"
   ]
  },
  {
   "cell_type": "code",
   "execution_count": 307,
   "metadata": {},
   "outputs": [
    {
     "name": "stdout",
     "output_type": "stream",
     "text": [
      "MessageId : 12674\n",
      "\n",
      "Date : Fri, 5 Jul 2019 10:17:44 +0300\n",
      "\n",
      "From : \"fitosystems.ru\" <info@fitosystems.ru> \n",
      "\n",
      "Subject : Заказ 9089, на сумму 4393 руб\n",
      "\n",
      "OrderId : 9089,\n",
      "\n",
      "customerName : Евгения Шляндина\n",
      "\n",
      "customerPhone : 89119453139\n",
      "\n",
      "customerEmail : storyteller.eva@yandex.ru\n",
      "\n",
      "customerCity :  - Москва\n",
      "\n",
      "customerAddress : Банный д7к2 кв57\n",
      "\n"
     ]
    }
   ],
   "source": [
    "\n",
    "\n",
    "print( 'MessageId : ' + str(message_id) + '\\n')    \n",
    "print( 'Date : ' + emailDate + '\\n')\n",
    "print( 'From : ' + emailFrom  + '\\n')\n",
    "print( 'Subject : ' + emailSubject + '\\n')\n",
    "#print( 'Body : ' + emailBody + '\\n')\n",
    "print( 'OrderId : ' + orderId + '\\n')\n",
    "print( 'customerName : ' + (customerName.get_text() if (customerName) else '') + '\\n')\n",
    "print( 'customerPhone : ' + (customerPhone.get_text() if (customerPhone) else '') + '\\n')\n",
    "print( 'customerEmail : ' + (customerEmail.get_text() if (customerEmail) else '') + '\\n')\n",
    "print( 'customerCity : ' + (customerCity.get_text() if (customerCity) else '') + '\\n')\n",
    "print( 'customerAddress : ' + (customerAddress.get_text() if (customerAddress) else '') + '\\n')"
   ]
  },
  {
   "cell_type": "code",
   "execution_count": null,
   "metadata": {},
   "outputs": [],
   "source": []
  }
 ],
 "metadata": {
  "kernelspec": {
   "display_name": "Python 3",
   "language": "python",
   "name": "python3"
  },
  "language_info": {
   "codemirror_mode": {
    "name": "ipython",
    "version": 3
   },
   "file_extension": ".py",
   "mimetype": "text/x-python",
   "name": "python",
   "nbconvert_exporter": "python",
   "pygments_lexer": "ipython3",
   "version": "3.6.1"
  }
 },
 "nbformat": 4,
 "nbformat_minor": 2
}

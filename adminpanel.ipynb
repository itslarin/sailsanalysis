{
 "cells": [
  {
   "cell_type": "code",
   "execution_count": 1,
   "metadata": {},
   "outputs": [],
   "source": [
    "#import section\n",
    "\n",
    "import sys\n",
    "sys.path.append('modules')\n",
    "\n",
    "import json\n",
    "import time\n",
    "import imaplib\n",
    "import email\n",
    "from bs4 import BeautifulSoup\n",
    "import mailfuncs\n",
    "import dbfuncs\n"
   ]
  },
  {
   "cell_type": "code",
   "execution_count": 2,
   "metadata": {},
   "outputs": [],
   "source": [
    "#initialisation\n",
    "\n",
    "\n",
    "with open('gmail.creds') as f:\n",
    "    data = json.load(f)\n",
    "    gmailServer = \"imap.gmail.com\"\n",
    "    gmailPort   = 993    \n",
    "    gmailAccount = data['account']\n",
    "    gmailPassword = data['password']\n",
    "    \n",
    "    \n",
    "with open('db.creds') as f:\n",
    "    data = json.load(f)\n",
    "    dbHost = data['host']\n",
    "    dbPort = data['port']\n",
    "    dbDatabase = data['database']\n",
    "    dbUser = data['user']\n",
    "    dbPassword = data['password'] "
   ]
  },
  {
   "cell_type": "code",
   "execution_count": 3,
   "metadata": {},
   "outputs": [],
   "source": [
    "#connect to db\n",
    "\n",
    "engine = dbfuncs.dbGetEngine(dbHost,dbPort,dbDatabase,dbUser,dbPassword)"
   ]
  },
  {
   "cell_type": "code",
   "execution_count": 51,
   "metadata": {},
   "outputs": [
    {
     "name": "stdout",
     "output_type": "stream",
     "text": [
      "None\n"
     ]
    }
   ],
   "source": [
    "#receive latest email id from db\n",
    "\n",
    "connection = engine.connect()\n",
    "\n",
    "rs = connection.execute(\"SELECT order_id FROM public.order ORDER BY message_id DESC LIMIT 1\")\n",
    "\n",
    "dblast_email_id = str(rs.fetchone())\n",
    "\n",
    "\n",
    "connection.close()"
   ]
  },
  {
   "cell_type": "code",
   "execution_count": 19,
   "metadata": {},
   "outputs": [
    {
     "name": "stdout",
     "output_type": "stream",
     "text": [
      "None\n"
     ]
    }
   ],
   "source": [
    "#disconnect from db\n",
    "\n",
    "engine.dispose()"
   ]
  },
  {
   "cell_type": "code",
   "execution_count": 57,
   "metadata": {},
   "outputs": [
    {
     "data": {
      "text/plain": [
       "('OK', [b'fitosystems@gmail.com authenticated (Success)'])"
      ]
     },
     "execution_count": 57,
     "metadata": {},
     "output_type": "execute_result"
    }
   ],
   "source": [
    "#connect to gmail\n",
    "\n",
    "mail = imaplib.IMAP4_SSL(gmailServer)\n",
    "mail.login(gmailAccount,gmailPassword)"
   ]
  },
  {
   "cell_type": "code",
   "execution_count": 60,
   "metadata": {},
   "outputs": [
    {
     "name": "stdout",
     "output_type": "stream",
     "text": [
      "12600\n",
      "12675\n"
     ]
    }
   ],
   "source": [
    "#querying and defining messages for processing\n",
    "\n",
    "\n",
    "shiftFromLastMessage = 10\n",
    "\n",
    "mail.select('fitosystems.ru')\n",
    "typ, data = mail.search(None, 'ALL')\n",
    "mail_ids = data[0]\n",
    "id_list = list(map(lambda x: x.decode(\"utf-8\"), mail_ids.split()))\n",
    "first_email_id = id_list[0]\n",
    "last_email_id = id_list[-1 - shiftFromLastMessage]\n",
    "\n",
    "\n",
    "indexFrom = 0\n",
    "indexTo = 0\n",
    "\n",
    "try:\n",
    "    indexFrom = id_list.index(dblatest_email_id) + 1\n",
    "except ValueError:\n",
    "    indexFrom = 0\n",
    "    \n",
    "indexTo = len(id_list) - 1 - shiftFromLastMessage\n",
    "\n",
    "\n",
    "print(indexFrom)\n",
    "print(indexTo)"
   ]
  },
  {
   "cell_type": "code",
   "execution_count": null,
   "metadata": {},
   "outputs": [],
   "source": [
    "#processing instance\n",
    "\n",
    "message_id = latest_email_id\n",
    "\n",
    "\n",
    "typ, data = mail.fetch(str(message_id), '(RFC822)' ) \n",
    "\n",
    "\n",
    "rawEmail = data[0][1]\n",
    "msg = email.message_from_bytes(rawEmail)\n",
    "\n",
    "\n",
    "emailDate =  msg[\"Date\"]\n",
    "emailFrom =  mailfuncs.decodeHeaderValue(msg[\"From\"])\n",
    "emailSubject = mailfuncs.decodeHeader(msg[\"Subject\"])\n",
    "emailBody = msg.get_payload()\n",
    "\n",
    "\n",
    "orderId = emailSubject.split()[1]\n",
    "\n",
    "soup = BeautifulSoup(emailBody, 'html.parser')\n",
    "\n",
    "\n",
    "\n",
    "customerName = soup.find('span', class_='vm2-last_name')\n",
    "customerPhone = soup.find('span', class_='vm2-phone_1')\n",
    "customerEmail = soup.find('span', class_='vm2-email')\n",
    "customerCity = soup.find('span', class_='vm2-virtuemart_state_id')\n",
    "customerAddress = soup.find('span', class_='vm2-address_1')\n",
    "\n"
   ]
  },
  {
   "cell_type": "code",
   "execution_count": null,
   "metadata": {},
   "outputs": [],
   "source": [
    "\n",
    "\n",
    "print( 'MessageId : ' + str(message_id) + '\\n')    \n",
    "print( 'Date : ' + emailDate + '\\n')\n",
    "print( 'From : ' + emailFrom  + '\\n')\n",
    "print( 'Subject : ' + emailSubject + '\\n')\n",
    "#print( 'Body : ' + emailBody + '\\n')\n",
    "print( 'OrderId : ' + orderId + '\\n')\n",
    "print( 'customerName : ' + (customerName.get_text() if (customerName) else '') + '\\n')\n",
    "print( 'customerPhone : ' + (customerPhone.get_text() if (customerPhone) else '') + '\\n')\n",
    "print( 'customerEmail : ' + (customerEmail.get_text() if (customerEmail) else '') + '\\n')\n",
    "print( 'customerCity : ' + (customerCity.get_text() if (customerCity) else '') + '\\n')\n",
    "print( 'customerAddress : ' + (customerAddress.get_text() if (customerAddress) else '') + '\\n')"
   ]
  },
  {
   "cell_type": "code",
   "execution_count": null,
   "metadata": {},
   "outputs": [],
   "source": [
    "class EmailMessage:\n",
    "    messageId"
   ]
  }
 ],
 "metadata": {
  "kernelspec": {
   "display_name": "Python 3",
   "language": "python",
   "name": "python3"
  },
  "language_info": {
   "codemirror_mode": {
    "name": "ipython",
    "version": 3
   },
   "file_extension": ".py",
   "mimetype": "text/x-python",
   "name": "python",
   "nbconvert_exporter": "python",
   "pygments_lexer": "ipython3",
   "version": "3.6.1"
  }
 },
 "nbformat": 4,
 "nbformat_minor": 2
}
